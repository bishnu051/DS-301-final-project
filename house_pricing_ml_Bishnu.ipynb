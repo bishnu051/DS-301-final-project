{
 "cells": [
  {
   "cell_type": "code",
   "execution_count": 1,
   "id": "5f23421e",
   "metadata": {
    "_cell_guid": "b1076dfc-b9ad-4769-8c92-a6c4dae69d19",
    "_uuid": "8f2839f25d086af736a60e9eeb907d3b93b6e0e5",
    "execution": {
     "iopub.execute_input": "2025-08-26T21:05:24.257471Z",
     "iopub.status.busy": "2025-08-26T21:05:24.257174Z",
     "iopub.status.idle": "2025-08-26T21:05:27.670994Z",
     "shell.execute_reply": "2025-08-26T21:05:27.670167Z"
    },
    "papermill": {
     "duration": 3.419077,
     "end_time": "2025-08-26T21:05:27.672505",
     "exception": false,
     "start_time": "2025-08-26T21:05:24.253428",
     "status": "completed"
    },
    "tags": []
   },
   "outputs": [],
   "source": [
    "import pandas as pd\n",
    "import numpy as np\n",
    "from sklearn.model_selection import KFold, cross_val_score\n",
    "from sklearn.metrics import mean_squared_error\n",
    "from sklearn.preprocessing import LabelEncoder\n",
    "from xgboost import XGBRegressor"
   ]
  },
  {
   "cell_type": "code",
   "execution_count": 2,
   "id": "1279bedf",
   "metadata": {
    "execution": {
     "iopub.execute_input": "2025-08-26T21:05:27.677407Z",
     "iopub.status.busy": "2025-08-26T21:05:27.677043Z",
     "iopub.status.idle": "2025-08-26T21:05:27.756405Z",
     "shell.execute_reply": "2025-08-26T21:05:27.755725Z"
    },
    "papermill": {
     "duration": 0.083076,
     "end_time": "2025-08-26T21:05:27.757830",
     "exception": false,
     "start_time": "2025-08-26T21:05:27.674754",
     "status": "completed"
    },
    "tags": []
   },
   "outputs": [],
   "source": [
    "#Load data\n",
    "train = pd.read_csv(\"/kaggle/input/home-data-for-ml-course/train.csv\")\n",
    "test = pd.read_csv(\"/kaggle/input/home-data-for-ml-course/test.csv\")\n",
    "\n",
    "y = train[\"SalePrice\"]\n",
    "X = train.drop([\"SalePrice\", \"Id\"], axis=1)\n",
    "X_test = test.drop([\"Id\"], axis=1)"
   ]
  },
  {
   "cell_type": "code",
   "execution_count": 3,
   "id": "fbc9f543",
   "metadata": {
    "execution": {
     "iopub.execute_input": "2025-08-26T21:05:27.762426Z",
     "iopub.status.busy": "2025-08-26T21:05:27.762187Z",
     "iopub.status.idle": "2025-08-26T21:05:27.964137Z",
     "shell.execute_reply": "2025-08-26T21:05:27.963268Z"
    },
    "papermill": {
     "duration": 0.205786,
     "end_time": "2025-08-26T21:05:27.965613",
     "exception": false,
     "start_time": "2025-08-26T21:05:27.759827",
     "status": "completed"
    },
    "tags": []
   },
   "outputs": [
    {
     "name": "stderr",
     "output_type": "stream",
     "text": [
      "/tmp/ipykernel_13/2734797496.py:25: FutureWarning: A value is trying to be set on a copy of a DataFrame or Series through chained assignment using an inplace method.\n",
      "The behavior will change in pandas 3.0. This inplace method will never work because the intermediate object on which we are setting values always behaves as a copy.\n",
      "\n",
      "For example, when doing 'df[col].method(value, inplace=True)', try using 'df.method({col: value}, inplace=True)' or df[col] = df[col].method(value) instead, to perform the operation inplace on the original object.\n",
      "\n",
      "\n",
      "  train[\"GarageYrBlt\"].fillna(train[\"YearBuilt\"], inplace=True)\n",
      "/tmp/ipykernel_13/2734797496.py:26: FutureWarning: A value is trying to be set on a copy of a DataFrame or Series through chained assignment using an inplace method.\n",
      "The behavior will change in pandas 3.0. This inplace method will never work because the intermediate object on which we are setting values always behaves as a copy.\n",
      "\n",
      "For example, when doing 'df[col].method(value, inplace=True)', try using 'df.method({col: value}, inplace=True)' or df[col] = df[col].method(value) instead, to perform the operation inplace on the original object.\n",
      "\n",
      "\n",
      "  test[\"GarageYrBlt\"].fillna(test[\"YearBuilt\"], inplace=True)\n",
      "/tmp/ipykernel_13/2734797496.py:46: FutureWarning: A value is trying to be set on a copy of a DataFrame or Series through chained assignment using an inplace method.\n",
      "The behavior will change in pandas 3.0. This inplace method will never work because the intermediate object on which we are setting values always behaves as a copy.\n",
      "\n",
      "For example, when doing 'df[col].method(value, inplace=True)', try using 'df.method({col: value}, inplace=True)' or df[col] = df[col].method(value) instead, to perform the operation inplace on the original object.\n",
      "\n",
      "\n",
      "  X[col].fillna(X[col].median(), inplace=True)\n",
      "/tmp/ipykernel_13/2734797496.py:47: FutureWarning: A value is trying to be set on a copy of a DataFrame or Series through chained assignment using an inplace method.\n",
      "The behavior will change in pandas 3.0. This inplace method will never work because the intermediate object on which we are setting values always behaves as a copy.\n",
      "\n",
      "For example, when doing 'df[col].method(value, inplace=True)', try using 'df.method({col: value}, inplace=True)' or df[col] = df[col].method(value) instead, to perform the operation inplace on the original object.\n",
      "\n",
      "\n",
      "  X_test[col].fillna(X[col].median(), inplace=True)\n",
      "/tmp/ipykernel_13/2734797496.py:43: FutureWarning: A value is trying to be set on a copy of a DataFrame or Series through chained assignment using an inplace method.\n",
      "The behavior will change in pandas 3.0. This inplace method will never work because the intermediate object on which we are setting values always behaves as a copy.\n",
      "\n",
      "For example, when doing 'df[col].method(value, inplace=True)', try using 'df.method({col: value}, inplace=True)' or df[col] = df[col].method(value) instead, to perform the operation inplace on the original object.\n",
      "\n",
      "\n",
      "  X[col].fillna(X[col].mode()[0], inplace=True)\n",
      "/tmp/ipykernel_13/2734797496.py:44: FutureWarning: A value is trying to be set on a copy of a DataFrame or Series through chained assignment using an inplace method.\n",
      "The behavior will change in pandas 3.0. This inplace method will never work because the intermediate object on which we are setting values always behaves as a copy.\n",
      "\n",
      "For example, when doing 'df[col].method(value, inplace=True)', try using 'df.method({col: value}, inplace=True)' or df[col] = df[col].method(value) instead, to perform the operation inplace on the original object.\n",
      "\n",
      "\n",
      "  X_test[col].fillna(X[col].mode()[0], inplace=True)\n"
     ]
    }
   ],
   "source": [
    "# -----------------------------\n",
    "# FEATURE ENGINEERING (add here)\n",
    "# -----------------------------\n",
    "# Total square footage\n",
    "train[\"TotalSF\"] = train[\"TotalBsmtSF\"] + train[\"1stFlrSF\"] + train[\"2ndFlrSF\"]\n",
    "test[\"TotalSF\"]  = test[\"TotalBsmtSF\"] + test[\"1stFlrSF\"] + test[\"2ndFlrSF\"]\n",
    "\n",
    "# Total bathrooms (full + half as 0.5)\n",
    "train[\"TotalBath\"] = (\n",
    "    train[\"FullBath\"] + 0.5*train[\"HalfBath\"] +\n",
    "    train[\"BsmtFullBath\"] + 0.5*train[\"BsmtHalfBath\"]\n",
    ")\n",
    "test[\"TotalBath\"] = (\n",
    "    test[\"FullBath\"] + 0.5*test[\"HalfBath\"] +\n",
    "    test[\"BsmtFullBath\"] + 0.5*test[\"BsmtHalfBath\"]\n",
    ")\n",
    "\n",
    "# House age, years since remodel, garage age\n",
    "train[\"HouseAge\"] = train[\"YrSold\"] - train[\"YearBuilt\"]\n",
    "test[\"HouseAge\"]  = test[\"YrSold\"] - test[\"YearBuilt\"]\n",
    "\n",
    "train[\"RemodAge\"] = train[\"YrSold\"] - train[\"YearRemodAdd\"]\n",
    "test[\"RemodAge\"]  = test[\"YrSold\"] - test[\"YearRemodAdd\"]\n",
    "\n",
    "train[\"GarageYrBlt\"].fillna(train[\"YearBuilt\"], inplace=True)\n",
    "test[\"GarageYrBlt\"].fillna(test[\"YearBuilt\"], inplace=True)\n",
    "train[\"GarageAge\"] = train[\"YrSold\"] - train[\"GarageYrBlt\"]\n",
    "test[\"GarageAge\"]  = test[\"YrSold\"] - test[\"GarageYrBlt\"]\n",
    "\n",
    "# -----------------------------\n",
    "# TARGET + DESIGN MATRIX\n",
    "# (for the Learn Users competition, DO NOT log-transform y)\n",
    "# -----------------------------\n",
    "y = train[\"SalePrice\"]\n",
    "X = train.drop([\"SalePrice\", \"Id\"], axis=1)\n",
    "X_test = test.drop([\"Id\"], axis=1)\n",
    "\n",
    "# -----------------------------\n",
    "# PREPROCESSING (fill + encode)\n",
    "# -----------------------------\n",
    "for col in X.columns:\n",
    "    if X[col].dtype == \"object\":\n",
    "        X[col].fillna(X[col].mode()[0], inplace=True)\n",
    "        X_test[col].fillna(X[col].mode()[0], inplace=True)\n",
    "    else:\n",
    "        X[col].fillna(X[col].median(), inplace=True)\n",
    "        X_test[col].fillna(X[col].median(), inplace=True)\n",
    "\n",
    "from sklearn.preprocessing import LabelEncoder\n",
    "for col in X.select_dtypes(include=\"object\").columns:\n",
    "    lbl = LabelEncoder()\n",
    "    lbl.fit(list(X[col]) + list(X_test[col]))\n",
    "    X[col] = lbl.transform(X[col])\n",
    "    X_test[col] = lbl.transform(X_test[col])\n"
   ]
  },
  {
   "cell_type": "code",
   "execution_count": 4,
   "id": "6c2ee21d",
   "metadata": {
    "execution": {
     "iopub.execute_input": "2025-08-26T21:05:27.970405Z",
     "iopub.status.busy": "2025-08-26T21:05:27.970138Z",
     "iopub.status.idle": "2025-08-26T21:05:27.974265Z",
     "shell.execute_reply": "2025-08-26T21:05:27.973615Z"
    },
    "papermill": {
     "duration": 0.007913,
     "end_time": "2025-08-26T21:05:27.975526",
     "exception": false,
     "start_time": "2025-08-26T21:05:27.967613",
     "status": "completed"
    },
    "tags": []
   },
   "outputs": [],
   "source": [
    "\n",
    "# Train XGBoost with CV\n",
    "model = XGBRegressor(\n",
    "    n_estimators=1000,\n",
    "    learning_rate=0.05,\n",
    "    max_depth=4,\n",
    "    subsample=0.8,\n",
    "    colsample_bytree=0.8,\n",
    "    random_state=42\n",
    ")\n"
   ]
  },
  {
   "cell_type": "code",
   "execution_count": 5,
   "id": "24a1a567",
   "metadata": {
    "execution": {
     "iopub.execute_input": "2025-08-26T21:05:27.980255Z",
     "iopub.status.busy": "2025-08-26T21:05:27.979665Z",
     "iopub.status.idle": "2025-08-26T21:05:42.349338Z",
     "shell.execute_reply": "2025-08-26T21:05:42.348618Z"
    },
    "papermill": {
     "duration": 14.37324,
     "end_time": "2025-08-26T21:05:42.350610",
     "exception": false,
     "start_time": "2025-08-26T21:05:27.977370",
     "status": "completed"
    },
    "tags": []
   },
   "outputs": [
    {
     "name": "stderr",
     "output_type": "stream",
     "text": [
      "/usr/local/lib/python3.11/dist-packages/xgboost/sklearn.py:889: UserWarning: `early_stopping_rounds` in `fit` method is deprecated for better compatibility with scikit-learn, use `early_stopping_rounds` in constructor or`set_params` instead.\n",
      "  warnings.warn(\n",
      "/usr/local/lib/python3.11/dist-packages/xgboost/sklearn.py:889: UserWarning: `early_stopping_rounds` in `fit` method is deprecated for better compatibility with scikit-learn, use `early_stopping_rounds` in constructor or`set_params` instead.\n",
      "  warnings.warn(\n",
      "/usr/local/lib/python3.11/dist-packages/xgboost/sklearn.py:889: UserWarning: `early_stopping_rounds` in `fit` method is deprecated for better compatibility with scikit-learn, use `early_stopping_rounds` in constructor or`set_params` instead.\n",
      "  warnings.warn(\n",
      "/usr/local/lib/python3.11/dist-packages/xgboost/sklearn.py:889: UserWarning: `early_stopping_rounds` in `fit` method is deprecated for better compatibility with scikit-learn, use `early_stopping_rounds` in constructor or`set_params` instead.\n",
      "  warnings.warn(\n",
      "/usr/local/lib/python3.11/dist-packages/xgboost/sklearn.py:889: UserWarning: `early_stopping_rounds` in `fit` method is deprecated for better compatibility with scikit-learn, use `early_stopping_rounds` in constructor or`set_params` instead.\n",
      "  warnings.warn(\n"
     ]
    },
    {
     "name": "stdout",
     "output_type": "stream",
     "text": [
      "CV RMSE: 26877.280010964936\n",
      "submission.csv saved\n"
     ]
    }
   ],
   "source": [
    "from xgboost import XGBRegressor\n",
    "from sklearn.model_selection import KFold\n",
    "from sklearn.metrics import mean_squared_error\n",
    "import numpy as np\n",
    "\n",
    "model = XGBRegressor(\n",
    "    n_estimators=3000,\n",
    "    learning_rate=0.03,\n",
    "    max_depth=4,\n",
    "    min_child_weight=1.0,\n",
    "    subsample=0.8,\n",
    "    colsample_bytree=0.8,\n",
    "    reg_alpha=0.0,\n",
    "    reg_lambda=1.0,\n",
    "    random_state=42,\n",
    "    n_jobs=-1\n",
    ")\n",
    "\n",
    "# CV (raw SalePrice target for the Learn Users competition)\n",
    "kf = KFold(n_splits=5, shuffle=True, random_state=42)\n",
    "scores = []\n",
    "for tr, va in kf.split(X):\n",
    "    Xtr, Xva = X.iloc[tr], X.iloc[va]\n",
    "    ytr, yva = y.iloc[tr], y.iloc[va]\n",
    "    model.fit(\n",
    "        Xtr, ytr,\n",
    "        eval_set=[(Xva, yva)],\n",
    "        early_stopping_rounds=200,\n",
    "        verbose=False\n",
    "    )\n",
    "    preds = model.predict(Xva)\n",
    "    rmse = np.sqrt(mean_squared_error(yva, preds))\n",
    "    scores.append(rmse)\n",
    "\n",
    "print(\"CV RMSE:\", np.mean(scores))\n",
    "\n",
    "# Train on full data and predict\n",
    "model.fit(X, y, verbose=False)\n",
    "preds_test = model.predict(X_test)\n",
    "\n",
    "# sanity checks (like you did)\n",
    "assert len(preds_test) == len(X_test)\n",
    "assert (preds_test > 0).all()\n",
    "\n",
    "submission = pd.DataFrame({\"Id\": test[\"Id\"], \"SalePrice\": preds_test})\n",
    "submission.to_csv(\"submission.csv\", index=False)\n",
    "print(\"submission.csv saved\")\n"
   ]
  }
 ],
 "metadata": {
  "kaggle": {
   "accelerator": "none",
   "dataSources": [
    {
     "databundleVersionId": 111096,
     "sourceId": 10211,
     "sourceType": "competition"
    }
   ],
   "dockerImageVersionId": 31089,
   "isGpuEnabled": false,
   "isInternetEnabled": true,
   "language": "python",
   "sourceType": "notebook"
  },
  "kernelspec": {
   "display_name": "Python 3",
   "language": "python",
   "name": "python3"
  },
  "language_info": {
   "codemirror_mode": {
    "name": "ipython",
    "version": 3
   },
   "file_extension": ".py",
   "mimetype": "text/x-python",
   "name": "python",
   "nbconvert_exporter": "python",
   "pygments_lexer": "ipython3",
   "version": "3.11.13"
  },
  "papermill": {
   "default_parameters": {},
   "duration": 23.348065,
   "end_time": "2025-08-26T21:05:42.972127",
   "environment_variables": {},
   "exception": null,
   "input_path": "__notebook__.ipynb",
   "output_path": "__notebook__.ipynb",
   "parameters": {},
   "start_time": "2025-08-26T21:05:19.624062",
   "version": "2.6.0"
  }
 },
 "nbformat": 4,
 "nbformat_minor": 5
}
